{
 "cells": [
  {
   "cell_type": "code",
   "execution_count": 1,
   "id": "e302071e",
   "metadata": {
    "execution": {
     "iopub.execute_input": "2024-03-20T06:25:08.817650Z",
     "iopub.status.busy": "2024-03-20T06:25:08.816921Z",
     "iopub.status.idle": "2024-03-20T06:25:11.612522Z",
     "shell.execute_reply": "2024-03-20T06:25:11.611431Z"
    },
    "papermill": {
     "duration": 2.805596,
     "end_time": "2024-03-20T06:25:11.614956",
     "exception": false,
     "start_time": "2024-03-20T06:25:08.809360",
     "status": "completed"
    },
    "tags": []
   },
   "outputs": [],
   "source": [
    "import pandas as pd\n",
    "import nltk\n",
    "from nltk.tokenize import word_tokenize\n",
    "from nltk.stem import SnowballStemmer\n",
    "from sklearn.feature_extraction.text import TfidfVectorizer\n",
    "from sklearn.ensemble import VotingClassifier\n",
    "from sklearn.naive_bayes import MultinomialNB\n",
    "from sklearn.ensemble import RandomForestClassifier\n",
    "from sklearn.linear_model import LogisticRegression\n",
    "from sklearn.svm import SVC\n",
    "from sklearn.preprocessing import LabelEncoder\n",
    "from sklearn.model_selection import train_test_split\n",
    "from collections import Counter as ctr\n",
    "from sklearn.metrics import accuracy_score, precision_score, recall_score, f1_score, confusion_matrix"
   ]
  },
  {
   "cell_type": "code",
   "execution_count": 2,
   "id": "7465f5d2",
   "metadata": {
    "execution": {
     "iopub.execute_input": "2024-03-20T06:25:11.629659Z",
     "iopub.status.busy": "2024-03-20T06:25:11.627563Z",
     "iopub.status.idle": "2024-03-20T06:25:11.824181Z",
     "shell.execute_reply": "2024-03-20T06:25:11.823114Z"
    },
    "papermill": {
     "duration": 0.205556,
     "end_time": "2024-03-20T06:25:11.826427",
     "exception": false,
     "start_time": "2024-03-20T06:25:11.620871",
     "status": "completed"
    },
    "tags": []
   },
   "outputs": [
    {
     "name": "stdout",
     "output_type": "stream",
     "text": [
      "[nltk_data] Downloading package punkt to /usr/share/nltk_data...\n",
      "[nltk_data]   Package punkt is already up-to-date!\n",
      "[nltk_data] Downloading package averaged_perceptron_tagger to\n",
      "[nltk_data]     /usr/share/nltk_data...\n",
      "[nltk_data]   Package averaged_perceptron_tagger is already up-to-\n",
      "[nltk_data]       date!\n"
     ]
    },
    {
     "data": {
      "text/plain": [
       "True"
      ]
     },
     "execution_count": 2,
     "metadata": {},
     "output_type": "execute_result"
    }
   ],
   "source": [
    "nltk.download('punkt')\n",
    "nltk.download('averaged_perceptron_tagger')"
   ]
  },
  {
   "cell_type": "code",
   "execution_count": 3,
   "id": "356afac5",
   "metadata": {
    "execution": {
     "iopub.execute_input": "2024-03-20T06:25:11.839837Z",
     "iopub.status.busy": "2024-03-20T06:25:11.838949Z",
     "iopub.status.idle": "2024-03-20T06:25:11.877715Z",
     "shell.execute_reply": "2024-03-20T06:25:11.876763Z"
    },
    "papermill": {
     "duration": 0.048191,
     "end_time": "2024-03-20T06:25:11.880351",
     "exception": false,
     "start_time": "2024-03-20T06:25:11.832160",
     "status": "completed"
    },
    "tags": []
   },
   "outputs": [
    {
     "data": {
      "text/html": [
       "<div>\n",
       "<style scoped>\n",
       "    .dataframe tbody tr th:only-of-type {\n",
       "        vertical-align: middle;\n",
       "    }\n",
       "\n",
       "    .dataframe tbody tr th {\n",
       "        vertical-align: top;\n",
       "    }\n",
       "\n",
       "    .dataframe thead th {\n",
       "        text-align: right;\n",
       "    }\n",
       "</style>\n",
       "<table border=\"1\" class=\"dataframe\">\n",
       "  <thead>\n",
       "    <tr style=\"text-align: right;\">\n",
       "      <th></th>\n",
       "      <th>Unnamed: 0</th>\n",
       "      <th>label</th>\n",
       "      <th>text</th>\n",
       "    </tr>\n",
       "  </thead>\n",
       "  <tbody>\n",
       "    <tr>\n",
       "      <th>0</th>\n",
       "      <td>0</td>\n",
       "      <td>Psoriasis</td>\n",
       "      <td>I have been experiencing a skin rash on my arm...</td>\n",
       "    </tr>\n",
       "    <tr>\n",
       "      <th>1</th>\n",
       "      <td>1</td>\n",
       "      <td>Psoriasis</td>\n",
       "      <td>My skin has been peeling, especially on my kne...</td>\n",
       "    </tr>\n",
       "    <tr>\n",
       "      <th>2</th>\n",
       "      <td>2</td>\n",
       "      <td>Psoriasis</td>\n",
       "      <td>I have been experiencing joint pain in my fing...</td>\n",
       "    </tr>\n",
       "    <tr>\n",
       "      <th>3</th>\n",
       "      <td>3</td>\n",
       "      <td>Psoriasis</td>\n",
       "      <td>There is a silver like dusting on my skin, esp...</td>\n",
       "    </tr>\n",
       "    <tr>\n",
       "      <th>4</th>\n",
       "      <td>4</td>\n",
       "      <td>Psoriasis</td>\n",
       "      <td>My nails have small dents or pits in them, and...</td>\n",
       "    </tr>\n",
       "    <tr>\n",
       "      <th>5</th>\n",
       "      <td>5</td>\n",
       "      <td>Psoriasis</td>\n",
       "      <td>The skin on my palms and soles is thickened an...</td>\n",
       "    </tr>\n",
       "    <tr>\n",
       "      <th>6</th>\n",
       "      <td>6</td>\n",
       "      <td>Psoriasis</td>\n",
       "      <td>The skin around my mouth, nose, and eyes is re...</td>\n",
       "    </tr>\n",
       "    <tr>\n",
       "      <th>7</th>\n",
       "      <td>7</td>\n",
       "      <td>Psoriasis</td>\n",
       "      <td>My skin is very sensitive and reacts easily to...</td>\n",
       "    </tr>\n",
       "    <tr>\n",
       "      <th>8</th>\n",
       "      <td>8</td>\n",
       "      <td>Psoriasis</td>\n",
       "      <td>I have noticed a sudden peeling of skin at dif...</td>\n",
       "    </tr>\n",
       "    <tr>\n",
       "      <th>9</th>\n",
       "      <td>9</td>\n",
       "      <td>Psoriasis</td>\n",
       "      <td>The skin on my genitals is red and inflamed. I...</td>\n",
       "    </tr>\n",
       "  </tbody>\n",
       "</table>\n",
       "</div>"
      ],
      "text/plain": [
       "   Unnamed: 0      label                                               text\n",
       "0           0  Psoriasis  I have been experiencing a skin rash on my arm...\n",
       "1           1  Psoriasis  My skin has been peeling, especially on my kne...\n",
       "2           2  Psoriasis  I have been experiencing joint pain in my fing...\n",
       "3           3  Psoriasis  There is a silver like dusting on my skin, esp...\n",
       "4           4  Psoriasis  My nails have small dents or pits in them, and...\n",
       "5           5  Psoriasis  The skin on my palms and soles is thickened an...\n",
       "6           6  Psoriasis  The skin around my mouth, nose, and eyes is re...\n",
       "7           7  Psoriasis  My skin is very sensitive and reacts easily to...\n",
       "8           8  Psoriasis  I have noticed a sudden peeling of skin at dif...\n",
       "9           9  Psoriasis  The skin on my genitals is red and inflamed. I..."
      ]
     },
     "execution_count": 3,
     "metadata": {},
     "output_type": "execute_result"
    }
   ],
   "source": [
    "df = pd.read_csv('/kaggle/input/symptom2disease/Symptom2Disease.csv')\n",
    "df.head(10)"
   ]
  },
  {
   "cell_type": "code",
   "execution_count": 4,
   "id": "c8dafb4f",
   "metadata": {
    "execution": {
     "iopub.execute_input": "2024-03-20T06:25:11.893862Z",
     "iopub.status.busy": "2024-03-20T06:25:11.893487Z",
     "iopub.status.idle": "2024-03-20T06:25:11.905168Z",
     "shell.execute_reply": "2024-03-20T06:25:11.903959Z"
    },
    "papermill": {
     "duration": 0.020823,
     "end_time": "2024-03-20T06:25:11.907290",
     "exception": false,
     "start_time": "2024-03-20T06:25:11.886467",
     "status": "completed"
    },
    "tags": []
   },
   "outputs": [],
   "source": [
    "df.drop(['Unnamed: 0'],axis=1,inplace=True)"
   ]
  },
  {
   "cell_type": "code",
   "execution_count": 5,
   "id": "5af5371f",
   "metadata": {
    "execution": {
     "iopub.execute_input": "2024-03-20T06:25:11.921168Z",
     "iopub.status.busy": "2024-03-20T06:25:11.920784Z",
     "iopub.status.idle": "2024-03-20T06:25:11.929190Z",
     "shell.execute_reply": "2024-03-20T06:25:11.928459Z"
    },
    "papermill": {
     "duration": 0.017538,
     "end_time": "2024-03-20T06:25:11.931088",
     "exception": false,
     "start_time": "2024-03-20T06:25:11.913550",
     "status": "completed"
    },
    "tags": []
   },
   "outputs": [
    {
     "data": {
      "text/plain": [
       "Counter({'Psoriasis': 50,\n",
       "         'Varicose Veins': 50,\n",
       "         'Typhoid': 50,\n",
       "         'Chicken pox': 50,\n",
       "         'Impetigo': 50,\n",
       "         'Dengue': 50,\n",
       "         'Fungal infection': 50,\n",
       "         'Common Cold': 50,\n",
       "         'Pneumonia': 50,\n",
       "         'Dimorphic Hemorrhoids': 50,\n",
       "         'Arthritis': 50,\n",
       "         'Acne': 50,\n",
       "         'Bronchial Asthma': 50,\n",
       "         'Hypertension': 50,\n",
       "         'Migraine': 50,\n",
       "         'Cervical spondylosis': 50,\n",
       "         'Jaundice': 50,\n",
       "         'Malaria': 50,\n",
       "         'urinary tract infection': 50,\n",
       "         'allergy': 50,\n",
       "         'gastroesophageal reflux disease': 50,\n",
       "         'drug reaction': 50,\n",
       "         'peptic ulcer disease': 50,\n",
       "         'diabetes': 50})"
      ]
     },
     "execution_count": 5,
     "metadata": {},
     "output_type": "execute_result"
    }
   ],
   "source": [
    "ctr(df['label'])"
   ]
  },
  {
   "cell_type": "code",
   "execution_count": 6,
   "id": "c5f0b81c",
   "metadata": {
    "execution": {
     "iopub.execute_input": "2024-03-20T06:25:11.945139Z",
     "iopub.status.busy": "2024-03-20T06:25:11.944538Z",
     "iopub.status.idle": "2024-03-20T06:25:11.958014Z",
     "shell.execute_reply": "2024-03-20T06:25:11.957074Z"
    },
    "papermill": {
     "duration": 0.023133,
     "end_time": "2024-03-20T06:25:11.960406",
     "exception": false,
     "start_time": "2024-03-20T06:25:11.937273",
     "status": "completed"
    },
    "tags": []
   },
   "outputs": [
    {
     "data": {
      "text/html": [
       "<div>\n",
       "<style scoped>\n",
       "    .dataframe tbody tr th:only-of-type {\n",
       "        vertical-align: middle;\n",
       "    }\n",
       "\n",
       "    .dataframe tbody tr th {\n",
       "        vertical-align: top;\n",
       "    }\n",
       "\n",
       "    .dataframe thead th {\n",
       "        text-align: right;\n",
       "    }\n",
       "</style>\n",
       "<table border=\"1\" class=\"dataframe\">\n",
       "  <thead>\n",
       "    <tr style=\"text-align: right;\">\n",
       "      <th></th>\n",
       "      <th>label</th>\n",
       "      <th>text</th>\n",
       "    </tr>\n",
       "  </thead>\n",
       "  <tbody>\n",
       "    <tr>\n",
       "      <th>239</th>\n",
       "      <td>Impetigo</td>\n",
       "      <td>A rash has developed around my nose and lips, ...</td>\n",
       "    </tr>\n",
       "    <tr>\n",
       "      <th>90</th>\n",
       "      <td>Varicose Veins</td>\n",
       "      <td>I have a rash on my legs that is giving me a l...</td>\n",
       "    </tr>\n",
       "    <tr>\n",
       "      <th>697</th>\n",
       "      <td>Hypertension</td>\n",
       "      <td>I was in the middle of a meeting when I sudden...</td>\n",
       "    </tr>\n",
       "    <tr>\n",
       "      <th>262</th>\n",
       "      <td>Dengue</td>\n",
       "      <td>The chills and shivering I have been experienc...</td>\n",
       "    </tr>\n",
       "    <tr>\n",
       "      <th>169</th>\n",
       "      <td>Chicken pox</td>\n",
       "      <td>There are red spots all over my body that I ca...</td>\n",
       "    </tr>\n",
       "    <tr>\n",
       "      <th>121</th>\n",
       "      <td>Typhoid</td>\n",
       "      <td>I'm having severe stomach pain and constipatio...</td>\n",
       "    </tr>\n",
       "    <tr>\n",
       "      <th>1011</th>\n",
       "      <td>gastroesophageal reflux disease</td>\n",
       "      <td>I have indigestion and heartburn. I frequently...</td>\n",
       "    </tr>\n",
       "    <tr>\n",
       "      <th>843</th>\n",
       "      <td>Jaundice</td>\n",
       "      <td>I've been experiencing intense itchiness, naus...</td>\n",
       "    </tr>\n",
       "    <tr>\n",
       "      <th>703</th>\n",
       "      <td>Migraine</td>\n",
       "      <td>I've been suffering visual disruptions, seeing...</td>\n",
       "    </tr>\n",
       "    <tr>\n",
       "      <th>692</th>\n",
       "      <td>Hypertension</td>\n",
       "      <td>I felt fine all day, but when I was driving ho...</td>\n",
       "    </tr>\n",
       "  </tbody>\n",
       "</table>\n",
       "</div>"
      ],
      "text/plain": [
       "                                label  \\\n",
       "239                          Impetigo   \n",
       "90                     Varicose Veins   \n",
       "697                      Hypertension   \n",
       "262                            Dengue   \n",
       "169                       Chicken pox   \n",
       "121                           Typhoid   \n",
       "1011  gastroesophageal reflux disease   \n",
       "843                          Jaundice   \n",
       "703                          Migraine   \n",
       "692                      Hypertension   \n",
       "\n",
       "                                                   text  \n",
       "239   A rash has developed around my nose and lips, ...  \n",
       "90    I have a rash on my legs that is giving me a l...  \n",
       "697   I was in the middle of a meeting when I sudden...  \n",
       "262   The chills and shivering I have been experienc...  \n",
       "169   There are red spots all over my body that I ca...  \n",
       "121   I'm having severe stomach pain and constipatio...  \n",
       "1011  I have indigestion and heartburn. I frequently...  \n",
       "843   I've been experiencing intense itchiness, naus...  \n",
       "703   I've been suffering visual disruptions, seeing...  \n",
       "692   I felt fine all day, but when I was driving ho...  "
      ]
     },
     "execution_count": 6,
     "metadata": {},
     "output_type": "execute_result"
    }
   ],
   "source": [
    "df.sample(10)"
   ]
  },
  {
   "cell_type": "code",
   "execution_count": 7,
   "id": "18ca819f",
   "metadata": {
    "execution": {
     "iopub.execute_input": "2024-03-20T06:25:11.976209Z",
     "iopub.status.busy": "2024-03-20T06:25:11.975813Z",
     "iopub.status.idle": "2024-03-20T06:25:12.892777Z",
     "shell.execute_reply": "2024-03-20T06:25:12.891607Z"
    },
    "papermill": {
     "duration": 0.92725,
     "end_time": "2024-03-20T06:25:12.895450",
     "exception": false,
     "start_time": "2024-03-20T06:25:11.968200",
     "status": "completed"
    },
    "tags": []
   },
   "outputs": [],
   "source": [
    "def preprocess_text(text):\n",
    "    tokens = word_tokenize(text)\n",
    "    snowball_stemmer = SnowballStemmer('english')\n",
    "    tokens = [snowball_stemmer.stem(token.lower()) for token in tokens if token.isalpha()]\n",
    "    return ' '.join(tokens)\n",
    "\n",
    "df['text'] = df['text'].apply(preprocess_text)"
   ]
  },
  {
   "cell_type": "code",
   "execution_count": 8,
   "id": "ecea3c8f",
   "metadata": {
    "execution": {
     "iopub.execute_input": "2024-03-20T06:25:12.910267Z",
     "iopub.status.busy": "2024-03-20T06:25:12.909875Z",
     "iopub.status.idle": "2024-03-20T06:25:12.919364Z",
     "shell.execute_reply": "2024-03-20T06:25:12.918655Z"
    },
    "papermill": {
     "duration": 0.019396,
     "end_time": "2024-03-20T06:25:12.921362",
     "exception": false,
     "start_time": "2024-03-20T06:25:12.901966",
     "status": "completed"
    },
    "tags": []
   },
   "outputs": [
    {
     "data": {
      "text/html": [
       "<div>\n",
       "<style scoped>\n",
       "    .dataframe tbody tr th:only-of-type {\n",
       "        vertical-align: middle;\n",
       "    }\n",
       "\n",
       "    .dataframe tbody tr th {\n",
       "        vertical-align: top;\n",
       "    }\n",
       "\n",
       "    .dataframe thead th {\n",
       "        text-align: right;\n",
       "    }\n",
       "</style>\n",
       "<table border=\"1\" class=\"dataframe\">\n",
       "  <thead>\n",
       "    <tr style=\"text-align: right;\">\n",
       "      <th></th>\n",
       "      <th>label</th>\n",
       "      <th>text</th>\n",
       "    </tr>\n",
       "  </thead>\n",
       "  <tbody>\n",
       "    <tr>\n",
       "      <th>1116</th>\n",
       "      <td>peptic ulcer disease</td>\n",
       "      <td>i have stomach ach and bend over or lie down j...</td>\n",
       "    </tr>\n",
       "    <tr>\n",
       "      <th>1090</th>\n",
       "      <td>drug reaction</td>\n",
       "      <td>i no longer want to have sex and it difficult ...</td>\n",
       "    </tr>\n",
       "    <tr>\n",
       "      <th>871</th>\n",
       "      <td>Malaria</td>\n",
       "      <td>along with my intens scratch chill nausea and ...</td>\n",
       "    </tr>\n",
       "    <tr>\n",
       "      <th>542</th>\n",
       "      <td>Arthritis</td>\n",
       "      <td>i been experienc stiff and weak in my neck mus...</td>\n",
       "    </tr>\n",
       "    <tr>\n",
       "      <th>309</th>\n",
       "      <td>Fungal infection</td>\n",
       "      <td>on my arm and leg i have a lot of red pimpl an...</td>\n",
       "    </tr>\n",
       "  </tbody>\n",
       "</table>\n",
       "</div>"
      ],
      "text/plain": [
       "                     label                                               text\n",
       "1116  peptic ulcer disease  i have stomach ach and bend over or lie down j...\n",
       "1090         drug reaction  i no longer want to have sex and it difficult ...\n",
       "871                Malaria  along with my intens scratch chill nausea and ...\n",
       "542              Arthritis  i been experienc stiff and weak in my neck mus...\n",
       "309       Fungal infection  on my arm and leg i have a lot of red pimpl an..."
      ]
     },
     "execution_count": 8,
     "metadata": {},
     "output_type": "execute_result"
    }
   ],
   "source": [
    "df.sample(5)"
   ]
  },
  {
   "cell_type": "code",
   "execution_count": 9,
   "id": "d78e49bb",
   "metadata": {
    "execution": {
     "iopub.execute_input": "2024-03-20T06:25:12.936525Z",
     "iopub.status.busy": "2024-03-20T06:25:12.935634Z",
     "iopub.status.idle": "2024-03-20T06:25:12.990426Z",
     "shell.execute_reply": "2024-03-20T06:25:12.989589Z"
    },
    "papermill": {
     "duration": 0.064987,
     "end_time": "2024-03-20T06:25:12.992848",
     "exception": false,
     "start_time": "2024-03-20T06:25:12.927861",
     "status": "completed"
    },
    "tags": []
   },
   "outputs": [],
   "source": [
    "tfidf_vectorizer = TfidfVectorizer()\n",
    "X = tfidf_vectorizer.fit_transform(df['text'])\n",
    "\n",
    "label_encoder = LabelEncoder()\n",
    "y = label_encoder.fit_transform(df['label'])"
   ]
  },
  {
   "cell_type": "code",
   "execution_count": 10,
   "id": "c9e8f989",
   "metadata": {
    "execution": {
     "iopub.execute_input": "2024-03-20T06:25:13.007663Z",
     "iopub.status.busy": "2024-03-20T06:25:13.007282Z",
     "iopub.status.idle": "2024-03-20T06:25:13.013914Z",
     "shell.execute_reply": "2024-03-20T06:25:13.012880Z"
    },
    "papermill": {
     "duration": 0.016499,
     "end_time": "2024-03-20T06:25:13.016114",
     "exception": false,
     "start_time": "2024-03-20T06:25:12.999615",
     "status": "completed"
    },
    "tags": []
   },
   "outputs": [],
   "source": [
    "X_train, X_test, y_train, y_test = train_test_split(X, y, test_size=0.2, random_state=42)"
   ]
  },
  {
   "cell_type": "code",
   "execution_count": 11,
   "id": "ac71310f",
   "metadata": {
    "execution": {
     "iopub.execute_input": "2024-03-20T06:25:13.031479Z",
     "iopub.status.busy": "2024-03-20T06:25:13.030568Z",
     "iopub.status.idle": "2024-03-20T06:25:13.035502Z",
     "shell.execute_reply": "2024-03-20T06:25:13.034759Z"
    },
    "papermill": {
     "duration": 0.014638,
     "end_time": "2024-03-20T06:25:13.037400",
     "exception": false,
     "start_time": "2024-03-20T06:25:13.022762",
     "status": "completed"
    },
    "tags": []
   },
   "outputs": [],
   "source": [
    "base_models = [\n",
    "    ('nb', MultinomialNB()),\n",
    "    ('rf', RandomForestClassifier()),\n",
    "    ('lr', LogisticRegression()),\n",
    "    ('svm', SVC(kernel='linear', probability=True))\n",
    "]"
   ]
  },
  {
   "cell_type": "code",
   "execution_count": 12,
   "id": "11e3a33f",
   "metadata": {
    "execution": {
     "iopub.execute_input": "2024-03-20T06:25:13.054276Z",
     "iopub.status.busy": "2024-03-20T06:25:13.053598Z",
     "iopub.status.idle": "2024-03-20T06:25:13.057904Z",
     "shell.execute_reply": "2024-03-20T06:25:13.056820Z"
    },
    "papermill": {
     "duration": 0.015599,
     "end_time": "2024-03-20T06:25:13.059953",
     "exception": false,
     "start_time": "2024-03-20T06:25:13.044354",
     "status": "completed"
    },
    "tags": []
   },
   "outputs": [],
   "source": [
    "voting_classifier = VotingClassifier(estimators=base_models, voting='hard')"
   ]
  },
  {
   "cell_type": "code",
   "execution_count": 13,
   "id": "1411edc1",
   "metadata": {
    "execution": {
     "iopub.execute_input": "2024-03-20T06:25:13.075130Z",
     "iopub.status.busy": "2024-03-20T06:25:13.074460Z",
     "iopub.status.idle": "2024-03-20T06:25:16.209970Z",
     "shell.execute_reply": "2024-03-20T06:25:16.208962Z"
    },
    "papermill": {
     "duration": 3.145472,
     "end_time": "2024-03-20T06:25:16.212168",
     "exception": false,
     "start_time": "2024-03-20T06:25:13.066696",
     "status": "completed"
    },
    "tags": []
   },
   "outputs": [
    {
     "data": {
      "text/html": [
       "<style>#sk-container-id-1 {color: black;background-color: white;}#sk-container-id-1 pre{padding: 0;}#sk-container-id-1 div.sk-toggleable {background-color: white;}#sk-container-id-1 label.sk-toggleable__label {cursor: pointer;display: block;width: 100%;margin-bottom: 0;padding: 0.3em;box-sizing: border-box;text-align: center;}#sk-container-id-1 label.sk-toggleable__label-arrow:before {content: \"▸\";float: left;margin-right: 0.25em;color: #696969;}#sk-container-id-1 label.sk-toggleable__label-arrow:hover:before {color: black;}#sk-container-id-1 div.sk-estimator:hover label.sk-toggleable__label-arrow:before {color: black;}#sk-container-id-1 div.sk-toggleable__content {max-height: 0;max-width: 0;overflow: hidden;text-align: left;background-color: #f0f8ff;}#sk-container-id-1 div.sk-toggleable__content pre {margin: 0.2em;color: black;border-radius: 0.25em;background-color: #f0f8ff;}#sk-container-id-1 input.sk-toggleable__control:checked~div.sk-toggleable__content {max-height: 200px;max-width: 100%;overflow: auto;}#sk-container-id-1 input.sk-toggleable__control:checked~label.sk-toggleable__label-arrow:before {content: \"▾\";}#sk-container-id-1 div.sk-estimator input.sk-toggleable__control:checked~label.sk-toggleable__label {background-color: #d4ebff;}#sk-container-id-1 div.sk-label input.sk-toggleable__control:checked~label.sk-toggleable__label {background-color: #d4ebff;}#sk-container-id-1 input.sk-hidden--visually {border: 0;clip: rect(1px 1px 1px 1px);clip: rect(1px, 1px, 1px, 1px);height: 1px;margin: -1px;overflow: hidden;padding: 0;position: absolute;width: 1px;}#sk-container-id-1 div.sk-estimator {font-family: monospace;background-color: #f0f8ff;border: 1px dotted black;border-radius: 0.25em;box-sizing: border-box;margin-bottom: 0.5em;}#sk-container-id-1 div.sk-estimator:hover {background-color: #d4ebff;}#sk-container-id-1 div.sk-parallel-item::after {content: \"\";width: 100%;border-bottom: 1px solid gray;flex-grow: 1;}#sk-container-id-1 div.sk-label:hover label.sk-toggleable__label {background-color: #d4ebff;}#sk-container-id-1 div.sk-serial::before {content: \"\";position: absolute;border-left: 1px solid gray;box-sizing: border-box;top: 0;bottom: 0;left: 50%;z-index: 0;}#sk-container-id-1 div.sk-serial {display: flex;flex-direction: column;align-items: center;background-color: white;padding-right: 0.2em;padding-left: 0.2em;position: relative;}#sk-container-id-1 div.sk-item {position: relative;z-index: 1;}#sk-container-id-1 div.sk-parallel {display: flex;align-items: stretch;justify-content: center;background-color: white;position: relative;}#sk-container-id-1 div.sk-item::before, #sk-container-id-1 div.sk-parallel-item::before {content: \"\";position: absolute;border-left: 1px solid gray;box-sizing: border-box;top: 0;bottom: 0;left: 50%;z-index: -1;}#sk-container-id-1 div.sk-parallel-item {display: flex;flex-direction: column;z-index: 1;position: relative;background-color: white;}#sk-container-id-1 div.sk-parallel-item:first-child::after {align-self: flex-end;width: 50%;}#sk-container-id-1 div.sk-parallel-item:last-child::after {align-self: flex-start;width: 50%;}#sk-container-id-1 div.sk-parallel-item:only-child::after {width: 0;}#sk-container-id-1 div.sk-dashed-wrapped {border: 1px dashed gray;margin: 0 0.4em 0.5em 0.4em;box-sizing: border-box;padding-bottom: 0.4em;background-color: white;}#sk-container-id-1 div.sk-label label {font-family: monospace;font-weight: bold;display: inline-block;line-height: 1.2em;}#sk-container-id-1 div.sk-label-container {text-align: center;}#sk-container-id-1 div.sk-container {/* jupyter's `normalize.less` sets `[hidden] { display: none; }` but bootstrap.min.css set `[hidden] { display: none !important; }` so we also need the `!important` here to be able to override the default hidden behavior on the sphinx rendered scikit-learn.org. See: https://github.com/scikit-learn/scikit-learn/issues/21755 */display: inline-block !important;position: relative;}#sk-container-id-1 div.sk-text-repr-fallback {display: none;}</style><div id=\"sk-container-id-1\" class=\"sk-top-container\"><div class=\"sk-text-repr-fallback\"><pre>VotingClassifier(estimators=[(&#x27;nb&#x27;, MultinomialNB()),\n",
       "                             (&#x27;rf&#x27;, RandomForestClassifier()),\n",
       "                             (&#x27;lr&#x27;, LogisticRegression()),\n",
       "                             (&#x27;svm&#x27;, SVC(kernel=&#x27;linear&#x27;, probability=True))])</pre><b>In a Jupyter environment, please rerun this cell to show the HTML representation or trust the notebook. <br />On GitHub, the HTML representation is unable to render, please try loading this page with nbviewer.org.</b></div><div class=\"sk-container\" hidden><div class=\"sk-item sk-dashed-wrapped\"><div class=\"sk-label-container\"><div class=\"sk-label sk-toggleable\"><input class=\"sk-toggleable__control sk-hidden--visually\" id=\"sk-estimator-id-1\" type=\"checkbox\" ><label for=\"sk-estimator-id-1\" class=\"sk-toggleable__label sk-toggleable__label-arrow\">VotingClassifier</label><div class=\"sk-toggleable__content\"><pre>VotingClassifier(estimators=[(&#x27;nb&#x27;, MultinomialNB()),\n",
       "                             (&#x27;rf&#x27;, RandomForestClassifier()),\n",
       "                             (&#x27;lr&#x27;, LogisticRegression()),\n",
       "                             (&#x27;svm&#x27;, SVC(kernel=&#x27;linear&#x27;, probability=True))])</pre></div></div></div><div class=\"sk-parallel\"><div class=\"sk-parallel-item\"><div class=\"sk-item\"><div class=\"sk-label-container\"><div class=\"sk-label sk-toggleable\"><label>nb</label></div></div><div class=\"sk-serial\"><div class=\"sk-item\"><div class=\"sk-estimator sk-toggleable\"><input class=\"sk-toggleable__control sk-hidden--visually\" id=\"sk-estimator-id-2\" type=\"checkbox\" ><label for=\"sk-estimator-id-2\" class=\"sk-toggleable__label sk-toggleable__label-arrow\">MultinomialNB</label><div class=\"sk-toggleable__content\"><pre>MultinomialNB()</pre></div></div></div></div></div></div><div class=\"sk-parallel-item\"><div class=\"sk-item\"><div class=\"sk-label-container\"><div class=\"sk-label sk-toggleable\"><label>rf</label></div></div><div class=\"sk-serial\"><div class=\"sk-item\"><div class=\"sk-estimator sk-toggleable\"><input class=\"sk-toggleable__control sk-hidden--visually\" id=\"sk-estimator-id-3\" type=\"checkbox\" ><label for=\"sk-estimator-id-3\" class=\"sk-toggleable__label sk-toggleable__label-arrow\">RandomForestClassifier</label><div class=\"sk-toggleable__content\"><pre>RandomForestClassifier()</pre></div></div></div></div></div></div><div class=\"sk-parallel-item\"><div class=\"sk-item\"><div class=\"sk-label-container\"><div class=\"sk-label sk-toggleable\"><label>lr</label></div></div><div class=\"sk-serial\"><div class=\"sk-item\"><div class=\"sk-estimator sk-toggleable\"><input class=\"sk-toggleable__control sk-hidden--visually\" id=\"sk-estimator-id-4\" type=\"checkbox\" ><label for=\"sk-estimator-id-4\" class=\"sk-toggleable__label sk-toggleable__label-arrow\">LogisticRegression</label><div class=\"sk-toggleable__content\"><pre>LogisticRegression()</pre></div></div></div></div></div></div><div class=\"sk-parallel-item\"><div class=\"sk-item\"><div class=\"sk-label-container\"><div class=\"sk-label sk-toggleable\"><label>svm</label></div></div><div class=\"sk-serial\"><div class=\"sk-item\"><div class=\"sk-estimator sk-toggleable\"><input class=\"sk-toggleable__control sk-hidden--visually\" id=\"sk-estimator-id-5\" type=\"checkbox\" ><label for=\"sk-estimator-id-5\" class=\"sk-toggleable__label sk-toggleable__label-arrow\">SVC</label><div class=\"sk-toggleable__content\"><pre>SVC(kernel=&#x27;linear&#x27;, probability=True)</pre></div></div></div></div></div></div></div></div></div></div>"
      ],
      "text/plain": [
       "VotingClassifier(estimators=[('nb', MultinomialNB()),\n",
       "                             ('rf', RandomForestClassifier()),\n",
       "                             ('lr', LogisticRegression()),\n",
       "                             ('svm', SVC(kernel='linear', probability=True))])"
      ]
     },
     "execution_count": 13,
     "metadata": {},
     "output_type": "execute_result"
    }
   ],
   "source": [
    "voting_classifier.fit(X_train, y_train)"
   ]
  },
  {
   "cell_type": "code",
   "execution_count": 14,
   "id": "eebc8aba",
   "metadata": {
    "execution": {
     "iopub.execute_input": "2024-03-20T06:25:16.228593Z",
     "iopub.status.busy": "2024-03-20T06:25:16.228219Z",
     "iopub.status.idle": "2024-03-20T06:25:16.306429Z",
     "shell.execute_reply": "2024-03-20T06:25:16.305625Z"
    },
    "papermill": {
     "duration": 0.088418,
     "end_time": "2024-03-20T06:25:16.308310",
     "exception": false,
     "start_time": "2024-03-20T06:25:16.219892",
     "status": "completed"
    },
    "tags": []
   },
   "outputs": [
    {
     "name": "stdout",
     "output_type": "stream",
     "text": [
      "Accuracy: 0.9708333333333333\n"
     ]
    }
   ],
   "source": [
    "accuracy = voting_classifier.score(X_test, y_test)\n",
    "print(\"Accuracy:\", accuracy)"
   ]
  },
  {
   "cell_type": "code",
   "execution_count": 15,
   "id": "fde94cda",
   "metadata": {
    "execution": {
     "iopub.execute_input": "2024-03-20T06:25:16.323725Z",
     "iopub.status.busy": "2024-03-20T06:25:16.323146Z",
     "iopub.status.idle": "2024-03-20T06:25:16.402133Z",
     "shell.execute_reply": "2024-03-20T06:25:16.401287Z"
    },
    "papermill": {
     "duration": 0.08923,
     "end_time": "2024-03-20T06:25:16.404392",
     "exception": false,
     "start_time": "2024-03-20T06:25:16.315162",
     "status": "completed"
    },
    "tags": []
   },
   "outputs": [
    {
     "data": {
      "text/plain": [
       "['voting_classifier_model_Disease_pred_97_percent_acc.pkl']"
      ]
     },
     "execution_count": 15,
     "metadata": {},
     "output_type": "execute_result"
    }
   ],
   "source": [
    "import joblib\n",
    "\n",
    "joblib.dump(voting_classifier, 'voting_classifier_model_Disease_pred_97_percent_acc.pkl')"
   ]
  },
  {
   "cell_type": "code",
   "execution_count": 16,
   "id": "f38a18b8",
   "metadata": {
    "execution": {
     "iopub.execute_input": "2024-03-20T06:25:16.420748Z",
     "iopub.status.busy": "2024-03-20T06:25:16.420126Z",
     "iopub.status.idle": "2024-03-20T06:25:16.486146Z",
     "shell.execute_reply": "2024-03-20T06:25:16.485307Z"
    },
    "papermill": {
     "duration": 0.076929,
     "end_time": "2024-03-20T06:25:16.488409",
     "exception": false,
     "start_time": "2024-03-20T06:25:16.411480",
     "status": "completed"
    },
    "tags": []
   },
   "outputs": [],
   "source": [
    "loaded_model = joblib.load('/kaggle/working/voting_classifier_model_Disease_pred_97_percent_acc.pkl')"
   ]
  },
  {
   "cell_type": "code",
   "execution_count": 17,
   "id": "95f06e1f",
   "metadata": {
    "execution": {
     "iopub.execute_input": "2024-03-20T06:25:16.505174Z",
     "iopub.status.busy": "2024-03-20T06:25:16.504534Z",
     "iopub.status.idle": "2024-03-20T06:25:16.519955Z",
     "shell.execute_reply": "2024-03-20T06:25:16.518934Z"
    },
    "papermill": {
     "duration": 0.025995,
     "end_time": "2024-03-20T06:25:16.522106",
     "exception": false,
     "start_time": "2024-03-20T06:25:16.496111",
     "status": "completed"
    },
    "tags": []
   },
   "outputs": [
    {
     "name": "stdout",
     "output_type": "stream",
     "text": [
      "Predicted Label: ['Psoriasis']\n"
     ]
    }
   ],
   "source": [
    "# Sample text\n",
    "sample_text = \"I have been experiencing a skin rash on my arm for the past few weeks.\"\n",
    "sample_text_processed = preprocess_text(sample_text)\n",
    "sample_text_transformed = tfidf_vectorizer.transform([sample_text_processed])\n",
    "predicted_label = label_encoder.inverse_transform(voting_classifier.predict(sample_text_transformed))\n",
    "\n",
    "print(\"Predicted Label:\", predicted_label)"
   ]
  },
  {
   "cell_type": "code",
   "execution_count": 18,
   "id": "89c789bb",
   "metadata": {
    "execution": {
     "iopub.execute_input": "2024-03-20T06:25:16.537731Z",
     "iopub.status.busy": "2024-03-20T06:25:16.537378Z",
     "iopub.status.idle": "2024-03-20T06:25:16.555251Z",
     "shell.execute_reply": "2024-03-20T06:25:16.554143Z"
    },
    "papermill": {
     "duration": 0.028189,
     "end_time": "2024-03-20T06:25:16.557279",
     "exception": false,
     "start_time": "2024-03-20T06:25:16.529090",
     "status": "completed"
    },
    "tags": []
   },
   "outputs": [
    {
     "name": "stdout",
     "output_type": "stream",
     "text": [
      "Predicted Label: ['Common Cold']\n"
     ]
    }
   ],
   "source": [
    "text = 'i been realli weari and ill i been suffer from..'\n",
    "\n",
    "sample_text = text\n",
    "sample_text_processed = preprocess_text(sample_text)\n",
    "sample_text_transformed = tfidf_vectorizer.transform([sample_text_processed])\n",
    "predicted_label = label_encoder.inverse_transform(voting_classifier.predict(sample_text_transformed))\n",
    "\n",
    "print(\"Predicted Label:\", predicted_label)"
   ]
  },
  {
   "cell_type": "code",
   "execution_count": 19,
   "id": "9c6f26fe",
   "metadata": {
    "execution": {
     "iopub.execute_input": "2024-03-20T06:25:16.572707Z",
     "iopub.status.busy": "2024-03-20T06:25:16.572355Z",
     "iopub.status.idle": "2024-03-20T06:25:16.581451Z",
     "shell.execute_reply": "2024-03-20T06:25:16.580618Z"
    },
    "papermill": {
     "duration": 0.018893,
     "end_time": "2024-03-20T06:25:16.583238",
     "exception": false,
     "start_time": "2024-03-20T06:25:16.564345",
     "status": "completed"
    },
    "tags": []
   },
   "outputs": [
    {
     "data": {
      "text/html": [
       "<div>\n",
       "<style scoped>\n",
       "    .dataframe tbody tr th:only-of-type {\n",
       "        vertical-align: middle;\n",
       "    }\n",
       "\n",
       "    .dataframe tbody tr th {\n",
       "        vertical-align: top;\n",
       "    }\n",
       "\n",
       "    .dataframe thead th {\n",
       "        text-align: right;\n",
       "    }\n",
       "</style>\n",
       "<table border=\"1\" class=\"dataframe\">\n",
       "  <thead>\n",
       "    <tr style=\"text-align: right;\">\n",
       "      <th></th>\n",
       "      <th>label</th>\n",
       "      <th>text</th>\n",
       "    </tr>\n",
       "  </thead>\n",
       "  <tbody>\n",
       "    <tr>\n",
       "      <th>8</th>\n",
       "      <td>Psoriasis</td>\n",
       "      <td>i have notic a sudden peel of skin at differ p...</td>\n",
       "    </tr>\n",
       "  </tbody>\n",
       "</table>\n",
       "</div>"
      ],
      "text/plain": [
       "       label                                               text\n",
       "8  Psoriasis  i have notic a sudden peel of skin at differ p..."
      ]
     },
     "execution_count": 19,
     "metadata": {},
     "output_type": "execute_result"
    }
   ],
   "source": [
    "df.sample()"
   ]
  },
  {
   "cell_type": "code",
   "execution_count": 20,
   "id": "6386cbbc",
   "metadata": {
    "execution": {
     "iopub.execute_input": "2024-03-20T06:25:16.599604Z",
     "iopub.status.busy": "2024-03-20T06:25:16.598707Z",
     "iopub.status.idle": "2024-03-20T06:25:16.613405Z",
     "shell.execute_reply": "2024-03-20T06:25:16.612195Z"
    },
    "papermill": {
     "duration": 0.025044,
     "end_time": "2024-03-20T06:25:16.615526",
     "exception": false,
     "start_time": "2024-03-20T06:25:16.590482",
     "status": "completed"
    },
    "tags": []
   },
   "outputs": [
    {
     "name": "stdout",
     "output_type": "stream",
     "text": [
      "Accuracy: 1.0\n",
      "Precision: 1.0\n",
      "Recall: 1.0\n",
      "F1-score: 1.0\n",
      "Confusion Matrix:\n",
      "[[ 7  0  0  0  0  0  0  0  0  0  0  0  0  0  0  0  0  0  0  0  0  0  0  0]\n",
      " [ 0 10  0  0  0  0  0  0  0  0  0  0  0  0  0  0  0  0  0  0  0  0  0  0]\n",
      " [ 0  0 11  0  0  0  0  0  0  0  0  0  0  0  0  0  0  0  0  0  0  0  0  0]\n",
      " [ 0  0  0  7  0  0  0  0  0  0  0  0  0  0  0  0  0  0  0  0  0  0  0  0]\n",
      " [ 0  0  0  0 12  0  0  0  0  0  0  0  0  0  0  0  0  0  0  0  0  0  0  0]\n",
      " [ 0  0  0  0  0 12  0  0  0  0  0  0  0  0  0  0  0  0  0  0  0  0  0  0]\n",
      " [ 0  0  0  0  0  0 12  0  0  0  0  0  0  0  0  0  0  0  0  0  0  0  0  0]\n",
      " [ 0  0  0  0  0  0  0  7  0  0  0  0  0  0  0  0  0  0  0  0  0  0  0  0]\n",
      " [ 0  0  0  0  0  0  0  0 13  0  0  0  0  0  0  0  0  0  0  0  0  0  0  0]\n",
      " [ 0  0  0  0  0  0  0  0  0 10  0  0  0  0  0  0  0  0  0  0  0  0  0  0]\n",
      " [ 0  0  0  0  0  0  0  0  0  0 11  0  0  0  0  0  0  0  0  0  0  0  0  0]\n",
      " [ 0  0  0  0  0  0  0  0  0  0  0 11  0  0  0  0  0  0  0  0  0  0  0  0]\n",
      " [ 0  0  0  0  0  0  0  0  0  0  0  0 11  0  0  0  0  0  0  0  0  0  0  0]\n",
      " [ 0  0  0  0  0  0  0  0  0  0  0  0  0 10  0  0  0  0  0  0  0  0  0  0]\n",
      " [ 0  0  0  0  0  0  0  0  0  0  0  0  0  0 11  0  0  0  0  0  0  0  0  0]\n",
      " [ 0  0  0  0  0  0  0  0  0  0  0  0  0  0  0  6  0  0  0  0  0  0  0  0]\n",
      " [ 0  0  0  0  0  0  0  0  0  0  0  0  0  0  0  0  9  0  0  0  0  0  0  0]\n",
      " [ 0  0  0  0  0  0  0  0  0  0  0  0  0  0  0  0  0 12  0  0  0  0  0  0]\n",
      " [ 0  0  0  0  0  0  0  0  0  0  0  0  0  0  0  0  0  0 12  0  0  0  0  0]\n",
      " [ 0  0  0  0  0  0  0  0  0  0  0  0  0  0  0  0  0  0  0  8  0  0  0  0]\n",
      " [ 0  0  0  0  0  0  0  0  0  0  0  0  0  0  0  0  0  0  0  0  5  0  0  0]\n",
      " [ 0  0  0  0  0  0  0  0  0  0  0  0  0  0  0  0  0  0  0  0  0 11  0  0]\n",
      " [ 0  0  0  0  0  0  0  0  0  0  0  0  0  0  0  0  0  0  0  0  0  0 11  0]\n",
      " [ 0  0  0  0  0  0  0  0  0  0  0  0  0  0  0  0  0  0  0  0  0  0  0 11]]\n"
     ]
    }
   ],
   "source": [
    "# Compute accuracy\n",
    "accuracy = accuracy_score(y_test, y_test)\n",
    "print(\"Accuracy:\", accuracy)\n",
    "\n",
    "# Compute precision\n",
    "precision = precision_score(y_test, y_test, average='macro')  # 'macro' computes precision for each label, and returns the average\n",
    "print(\"Precision:\", precision)\n",
    "\n",
    "# Compute recall\n",
    "recall = recall_score(y_test, y_test, average='macro')  # 'macro' computes recall for each label, and returns the average\n",
    "print(\"Recall:\", recall)\n",
    "\n",
    "# Compute F1-score\n",
    "f1 = f1_score(y_test, y_test, average='macro')  # 'macro' computes F1-score for each label, and returns the average\n",
    "print(\"F1-score:\", f1)\n",
    "\n",
    "# Compute confusion matrix\n",
    "conf_matrix = confusion_matrix(y_test, y_test)\n",
    "print(\"Confusion Matrix:\")\n",
    "print(conf_matrix)"
   ]
  },
  {
   "cell_type": "code",
   "execution_count": 21,
   "id": "d5b6c67f",
   "metadata": {
    "execution": {
     "iopub.execute_input": "2024-03-20T06:25:16.634176Z",
     "iopub.status.busy": "2024-03-20T06:25:16.633472Z",
     "iopub.status.idle": "2024-03-20T06:25:16.649120Z",
     "shell.execute_reply": "2024-03-20T06:25:16.648044Z"
    },
    "papermill": {
     "duration": 0.026869,
     "end_time": "2024-03-20T06:25:16.651172",
     "exception": false,
     "start_time": "2024-03-20T06:25:16.624303",
     "status": "completed"
    },
    "tags": []
   },
   "outputs": [
    {
     "data": {
      "text/plain": [
       "['label_encoder_disease_nlp.joblib']"
      ]
     },
     "execution_count": 21,
     "metadata": {},
     "output_type": "execute_result"
    }
   ],
   "source": [
    "joblib.dump(tfidf_vectorizer, 'tfidf_vectorizer_disease_nlp.joblib')\n",
    "joblib.dump(label_encoder, 'label_encoder_disease_nlp.joblib')"
   ]
  },
  {
   "cell_type": "code",
   "execution_count": 22,
   "id": "e35e36e4",
   "metadata": {
    "execution": {
     "iopub.execute_input": "2024-03-20T06:25:16.667871Z",
     "iopub.status.busy": "2024-03-20T06:25:16.667475Z",
     "iopub.status.idle": "2024-03-20T06:25:16.736947Z",
     "shell.execute_reply": "2024-03-20T06:25:16.735891Z"
    },
    "papermill": {
     "duration": 0.080914,
     "end_time": "2024-03-20T06:25:16.739594",
     "exception": false,
     "start_time": "2024-03-20T06:25:16.658680",
     "status": "completed"
    },
    "tags": []
   },
   "outputs": [],
   "source": [
    "import joblib\n",
    "voting_classifier = joblib.load('/kaggle/working/voting_classifier_model_Disease_pred_97_percent_acc.pkl')\n",
    "tfidf_vectorizer = joblib.load('/kaggle/working/tfidf_vectorizer_disease_nlp.joblib')\n",
    "label_encoder = joblib.load('/kaggle/working/label_encoder_disease_nlp.joblib')"
   ]
  },
  {
   "cell_type": "code",
   "execution_count": 23,
   "id": "39731d39",
   "metadata": {
    "execution": {
     "iopub.execute_input": "2024-03-20T06:25:16.756872Z",
     "iopub.status.busy": "2024-03-20T06:25:16.756490Z",
     "iopub.status.idle": "2024-03-20T06:25:16.840183Z",
     "shell.execute_reply": "2024-03-20T06:25:16.839179Z"
    },
    "papermill": {
     "duration": 0.094787,
     "end_time": "2024-03-20T06:25:16.842113",
     "exception": false,
     "start_time": "2024-03-20T06:25:16.747326",
     "status": "completed"
    },
    "tags": []
   },
   "outputs": [
    {
     "name": "stdout",
     "output_type": "stream",
     "text": [
      "Predicted Label: ['Psoriasis']\n"
     ]
    }
   ],
   "source": [
    "import joblib\n",
    "\n",
    "# Load the model and vectorizer\n",
    "voting_classifier = joblib.load('/kaggle/working/voting_classifier_model_Disease_pred_97_percent_acc.pkl')\n",
    "tfidf_vectorizer = joblib.load('/kaggle/working/tfidf_vectorizer_disease_nlp.joblib')\n",
    "label_encoder = joblib.load('/kaggle/working/label_encoder_disease_nlp.joblib')\n",
    "\n",
    "# Sample text\n",
    "sample_text = \"I have been experiencing a skin rash on my arm for the past few weeks.\"\n",
    "\n",
    "# Preprocess the sample text\n",
    "def preprocess_text(text):\n",
    "    tokens = word_tokenize(text)\n",
    "    snowball_stemmer = SnowballStemmer('english')\n",
    "    tokens = [snowball_stemmer.stem(token.lower()) for token in tokens if token.isalpha()]\n",
    "    return ' '.join(tokens)\n",
    "\n",
    "sample_text_processed = preprocess_text(sample_text)\n",
    "\n",
    "# Transform the preprocessed sample text using the loaded vectorizer\n",
    "sample_text_transformed = tfidf_vectorizer.transform([sample_text_processed])\n",
    "\n",
    "# Predict using the loaded model\n",
    "predicted_label_encoded = voting_classifier.predict(sample_text_transformed)\n",
    "\n",
    "# Decode the predicted label\n",
    "predicted_label = label_encoder.inverse_transform(predicted_label_encoded)\n",
    "\n",
    "print(\"Predicted Label:\", predicted_label)"
   ]
  }
 ],
 "metadata": {
  "kaggle": {
   "accelerator": "none",
   "dataSources": [
    {
     "datasetId": 3087304,
     "sourceId": 5312008,
     "sourceType": "datasetVersion"
    }
   ],
   "dockerImageVersionId": 30664,
   "isGpuEnabled": false,
   "isInternetEnabled": true,
   "language": "python",
   "sourceType": "notebook"
  },
  "kernelspec": {
   "display_name": "Python 3",
   "language": "python",
   "name": "python3"
  },
  "language_info": {
   "codemirror_mode": {
    "name": "ipython",
    "version": 3
   },
   "file_extension": ".py",
   "mimetype": "text/x-python",
   "name": "python",
   "nbconvert_exporter": "python",
   "pygments_lexer": "ipython3",
   "version": "3.10.13"
  },
  "papermill": {
   "default_parameters": {},
   "duration": 11.223349,
   "end_time": "2024-03-20T06:25:17.470931",
   "environment_variables": {},
   "exception": null,
   "input_path": "__notebook__.ipynb",
   "output_path": "__notebook__.ipynb",
   "parameters": {},
   "start_time": "2024-03-20T06:25:06.247582",
   "version": "2.5.0"
  }
 },
 "nbformat": 4,
 "nbformat_minor": 5
}
